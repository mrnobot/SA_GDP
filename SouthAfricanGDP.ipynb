{
 "cells": [
  {
   "cell_type": "code",
   "execution_count": 2,
   "metadata": {},
   "outputs": [],
   "source": [
    "import pandas as pd\n",
    "import matplotlib.pyplot as plt\n",
    "%matplotlib inline"
   ]
  },
  {
   "cell_type": "code",
   "execution_count": 3,
   "metadata": {},
   "outputs": [],
   "source": [
    "data = pd.read_excel('GDPatmarketprices.xlsx', sheet_name = 0)"
   ]
  },
  {
   "cell_type": "code",
   "execution_count": 6,
   "metadata": {
    "collapsed": true
   },
   "outputs": [
    {
     "data": {
      "text/html": [
       "<div>\n",
       "<style scoped>\n",
       "    .dataframe tbody tr th:only-of-type {\n",
       "        vertical-align: middle;\n",
       "    }\n",
       "\n",
       "    .dataframe tbody tr th {\n",
       "        vertical-align: top;\n",
       "    }\n",
       "\n",
       "    .dataframe thead th {\n",
       "        text-align: right;\n",
       "    }\n",
       "</style>\n",
       "<table border=\"1\" class=\"dataframe\">\n",
       "  <thead>\n",
       "    <tr style=\"text-align: right;\">\n",
       "      <th></th>\n",
       "      <th>Albania</th>\n",
       "      <th>Argentina</th>\n",
       "      <th>Armenia</th>\n",
       "      <th>Developing Asia</th>\n",
       "      <th>Australia</th>\n",
       "      <th>Austria</th>\n",
       "      <th>Belgium</th>\n",
       "      <th>Bulgaria</th>\n",
       "      <th>Bahrain</th>\n",
       "      <th>Bosnia and Herzegovina</th>\n",
       "      <th>...</th>\n",
       "      <th>Tunisia</th>\n",
       "      <th>Turkey</th>\n",
       "      <th>Taiwan, China</th>\n",
       "      <th>Ukraine</th>\n",
       "      <th>Uruguay</th>\n",
       "      <th>United States</th>\n",
       "      <th>Uzbekistan</th>\n",
       "      <th>Vietnam</th>\n",
       "      <th>World (WBG members)</th>\n",
       "      <th>South Africa</th>\n",
       "    </tr>\n",
       "  </thead>\n",
       "  <tbody>\n",
       "    <tr>\n",
       "      <th>2014.0</th>\n",
       "      <td>13207.710</td>\n",
       "      <td>562805.6</td>\n",
       "      <td>11569.730</td>\n",
       "      <td>14640044.0</td>\n",
       "      <td>1454279.0</td>\n",
       "      <td>442625.7</td>\n",
       "      <td>531452.9</td>\n",
       "      <td>56572.45</td>\n",
       "      <td>33314.730</td>\n",
       "      <td>18584.020</td>\n",
       "      <td>...</td>\n",
       "      <td>47688.16</td>\n",
       "      <td>933399.2</td>\n",
       "      <td>531234.0</td>\n",
       "      <td>134523.40</td>\n",
       "      <td>57299.86</td>\n",
       "      <td>17521800.0</td>\n",
       "      <td>61955.95</td>\n",
       "      <td>184954.8</td>\n",
       "      <td>75213379.0</td>\n",
       "      <td>350872.6</td>\n",
       "    </tr>\n",
       "    <tr>\n",
       "      <th>2015.0</th>\n",
       "      <td>11368.320</td>\n",
       "      <td>642425.5</td>\n",
       "      <td>10561.740</td>\n",
       "      <td>15180282.0</td>\n",
       "      <td>1231888.0</td>\n",
       "      <td>382558.6</td>\n",
       "      <td>455514.6</td>\n",
       "      <td>50196.56</td>\n",
       "      <td>31069.620</td>\n",
       "      <td>16217.700</td>\n",
       "      <td>...</td>\n",
       "      <td>43051.41</td>\n",
       "      <td>857345.4</td>\n",
       "      <td>528089.3</td>\n",
       "      <td>89665.85</td>\n",
       "      <td>53503.67</td>\n",
       "      <td>18219300.0</td>\n",
       "      <td>65888.26</td>\n",
       "      <td>190652.6</td>\n",
       "      <td>71023367.0</td>\n",
       "      <td>318675.6</td>\n",
       "    </tr>\n",
       "    <tr>\n",
       "      <th>2016.0</th>\n",
       "      <td>11864.970</td>\n",
       "      <td>553903.4</td>\n",
       "      <td>10568.030</td>\n",
       "      <td>15629917.0</td>\n",
       "      <td>1264735.0</td>\n",
       "      <td>391012.8</td>\n",
       "      <td>467519.0</td>\n",
       "      <td>53155.41</td>\n",
       "      <td>32177.330</td>\n",
       "      <td>16896.920</td>\n",
       "      <td>...</td>\n",
       "      <td>41759.06</td>\n",
       "      <td>860481.7</td>\n",
       "      <td>531824.0</td>\n",
       "      <td>92613.52</td>\n",
       "      <td>52917.31</td>\n",
       "      <td>18707200.0</td>\n",
       "      <td>66452.99</td>\n",
       "      <td>200287.7</td>\n",
       "      <td>72232793.0</td>\n",
       "      <td>296853.3</td>\n",
       "    </tr>\n",
       "    <tr>\n",
       "      <th>2017.0</th>\n",
       "      <td>13063.170</td>\n",
       "      <td>637300.8</td>\n",
       "      <td>11511.940</td>\n",
       "      <td>17165327.0</td>\n",
       "      <td>1379181.0</td>\n",
       "      <td>418591.7</td>\n",
       "      <td>494012.3</td>\n",
       "      <td>56903.86</td>\n",
       "      <td>35243.130</td>\n",
       "      <td>18137.250</td>\n",
       "      <td>...</td>\n",
       "      <td>39941.58</td>\n",
       "      <td>848282.4</td>\n",
       "      <td>573004.1</td>\n",
       "      <td>111420.50</td>\n",
       "      <td>59228.53</td>\n",
       "      <td>19485500.0</td>\n",
       "      <td>52545.25</td>\n",
       "      <td>218800.8</td>\n",
       "      <td>76729381.0</td>\n",
       "      <td>349369.1</td>\n",
       "    </tr>\n",
       "    <tr>\n",
       "      <th>2018.0</th>\n",
       "      <td>3785.682</td>\n",
       "      <td>158813.0</td>\n",
       "      <td>3262.188</td>\n",
       "      <td>8346910.0</td>\n",
       "      <td>365062.1</td>\n",
       "      <td>232133.4</td>\n",
       "      <td>136638.4</td>\n",
       "      <td>16136.14</td>\n",
       "      <td>9174.374</td>\n",
       "      <td>5047.216</td>\n",
       "      <td>...</td>\n",
       "      <td>10591.23</td>\n",
       "      <td>229203.0</td>\n",
       "      <td>149985.9</td>\n",
       "      <td>30468.28</td>\n",
       "      <td>15643.70</td>\n",
       "      <td>10110900.0</td>\n",
       "      <td>20926.70</td>\n",
       "      <td>116170.9</td>\n",
       "      <td>30609560.0</td>\n",
       "      <td>100024.8</td>\n",
       "    </tr>\n",
       "  </tbody>\n",
       "</table>\n",
       "<p>5 rows × 107 columns</p>\n",
       "</div>"
      ],
      "text/plain": [
       "          Albania  Argentina    Armenia  Developing Asia  Australia   Austria  \\\n",
       "2014.0  13207.710   562805.6  11569.730       14640044.0  1454279.0  442625.7   \n",
       "2015.0  11368.320   642425.5  10561.740       15180282.0  1231888.0  382558.6   \n",
       "2016.0  11864.970   553903.4  10568.030       15629917.0  1264735.0  391012.8   \n",
       "2017.0  13063.170   637300.8  11511.940       17165327.0  1379181.0  418591.7   \n",
       "2018.0   3785.682   158813.0   3262.188        8346910.0   365062.1  232133.4   \n",
       "\n",
       "         Belgium  Bulgaria    Bahrain  Bosnia and Herzegovina      ...       \\\n",
       "2014.0  531452.9  56572.45  33314.730               18584.020      ...        \n",
       "2015.0  455514.6  50196.56  31069.620               16217.700      ...        \n",
       "2016.0  467519.0  53155.41  32177.330               16896.920      ...        \n",
       "2017.0  494012.3  56903.86  35243.130               18137.250      ...        \n",
       "2018.0  136638.4  16136.14   9174.374                5047.216      ...        \n",
       "\n",
       "         Tunisia    Turkey  Taiwan, China    Ukraine   Uruguay  United States  \\\n",
       "2014.0  47688.16  933399.2       531234.0  134523.40  57299.86     17521800.0   \n",
       "2015.0  43051.41  857345.4       528089.3   89665.85  53503.67     18219300.0   \n",
       "2016.0  41759.06  860481.7       531824.0   92613.52  52917.31     18707200.0   \n",
       "2017.0  39941.58  848282.4       573004.1  111420.50  59228.53     19485500.0   \n",
       "2018.0  10591.23  229203.0       149985.9   30468.28  15643.70     10110900.0   \n",
       "\n",
       "        Uzbekistan   Vietnam  World (WBG members)  South Africa  \n",
       "2014.0    61955.95  184954.8           75213379.0      350872.6  \n",
       "2015.0    65888.26  190652.6           71023367.0      318675.6  \n",
       "2016.0    66452.99  200287.7           72232793.0      296853.3  \n",
       "2017.0    52545.25  218800.8           76729381.0      349369.1  \n",
       "2018.0    20926.70  116170.9           30609560.0      100024.8  \n",
       "\n",
       "[5 rows x 107 columns]"
      ]
     },
     "execution_count": 6,
     "metadata": {},
     "output_type": "execute_result"
    }
   ],
   "source": [
    "data.tail()"
   ]
  },
  {
   "cell_type": "code",
   "execution_count": 16,
   "metadata": {
    "scrolled": true
   },
   "outputs": [],
   "source": [
    "extract = data[['World (WBG members)','South Africa']]"
   ]
  },
  {
   "cell_type": "code",
   "execution_count": 17,
   "metadata": {},
   "outputs": [],
   "source": [
    "final = extract.drop(extract.index[0])"
   ]
  },
  {
   "cell_type": "code",
   "execution_count": 32,
   "metadata": {},
   "outputs": [],
   "source": [
    "final_ = final.drop(final.index[29])"
   ]
  },
  {
   "cell_type": "code",
   "execution_count": 33,
   "metadata": {
    "collapsed": true
   },
   "outputs": [
    {
     "data": {
      "text/html": [
       "<div>\n",
       "<style scoped>\n",
       "    .dataframe tbody tr th:only-of-type {\n",
       "        vertical-align: middle;\n",
       "    }\n",
       "\n",
       "    .dataframe tbody tr th {\n",
       "        vertical-align: top;\n",
       "    }\n",
       "\n",
       "    .dataframe thead th {\n",
       "        text-align: right;\n",
       "    }\n",
       "</style>\n",
       "<table border=\"1\" class=\"dataframe\">\n",
       "  <thead>\n",
       "    <tr style=\"text-align: right;\">\n",
       "      <th></th>\n",
       "      <th>World (WBG members)</th>\n",
       "      <th>South Africa</th>\n",
       "    </tr>\n",
       "  </thead>\n",
       "  <tbody>\n",
       "    <tr>\n",
       "      <th>2013.0</th>\n",
       "      <td>73546428.0</td>\n",
       "      <td>367283.8</td>\n",
       "    </tr>\n",
       "    <tr>\n",
       "      <th>2014.0</th>\n",
       "      <td>75213379.0</td>\n",
       "      <td>350872.6</td>\n",
       "    </tr>\n",
       "    <tr>\n",
       "      <th>2015.0</th>\n",
       "      <td>71023367.0</td>\n",
       "      <td>318675.6</td>\n",
       "    </tr>\n",
       "    <tr>\n",
       "      <th>2016.0</th>\n",
       "      <td>72232793.0</td>\n",
       "      <td>296853.3</td>\n",
       "    </tr>\n",
       "    <tr>\n",
       "      <th>2017.0</th>\n",
       "      <td>76729381.0</td>\n",
       "      <td>349369.1</td>\n",
       "    </tr>\n",
       "  </tbody>\n",
       "</table>\n",
       "</div>"
      ],
      "text/plain": [
       "        World (WBG members)  South Africa\n",
       "2013.0           73546428.0      367283.8\n",
       "2014.0           75213379.0      350872.6\n",
       "2015.0           71023367.0      318675.6\n",
       "2016.0           72232793.0      296853.3\n",
       "2017.0           76729381.0      349369.1"
      ]
     },
     "execution_count": 33,
     "metadata": {},
     "output_type": "execute_result"
    }
   ],
   "source": [
    "final_.tail()"
   ]
  },
  {
   "cell_type": "code",
   "execution_count": 44,
   "metadata": {
    "collapsed": true
   },
   "outputs": [
    {
     "data": {
      "text/plain": [
       "Text(0,0.5,'GDP')"
      ]
     },
     "execution_count": 44,
     "metadata": {},
     "output_type": "execute_result"
    },
    {
     "data": {
      "image/png": "[encoded data removed]",
      "text/plain": [
       "<Figure size 432x288 with 1 Axes>"
      ]
     },
     "metadata": {},
     "output_type": "display_data"
    }
   ],
   "source": [
    "world = plt.plot(final_['World (WBG members)'])\n",
    "plt.title('World GDP 1989-2017, in millions of US$')\n",
    "plt.xlabel('Year')\n",
    "plt.ylabel('GDP')"
   ]
  },
  {
   "cell_type": "code",
   "execution_count": 46,
   "metadata": {
    "collapsed": true
   },
   "outputs": [
    {
     "data": {
      "text/plain": [
       "Text(0,0.5,'GDP')"
      ]
     },
     "execution_count": 46,
     "metadata": {},
     "output_type": "execute_result"
    },
    {
     "data": {
      "image/png": "[encoded data removed]",
      "text/plain": [
       "<Figure size 432x288 with 1 Axes>"
      ]
     },
     "metadata": {},
     "output_type": "display_data"
    }
   ],
   "source": [
    "sa = plt.plot(final_['South Africa'])\n",
    "plt.title('South African GDP, in millionsof US$')\n",
    "plt.xlabel('Year')\n",
    "plt.ylabel('GDP')"
   ]
  },
  {
   "cell_type": "code",
   "execution_count": 51,
   "metadata": {
    "collapsed": true
   },
   "outputs": [
    {
     "data": {
      "text/plain": [
       "{'whiskers': [<matplotlib.lines.Line2D at 0x1f0d90cdf28>,\n",
       "  <matplotlib.lines.Line2D at 0x1f0d90d5400>],\n",
       " 'caps': [<matplotlib.lines.Line2D at 0x1f0d90d5828>,\n",
       "  <matplotlib.lines.Line2D at 0x1f0d90d5c50>],\n",
       " 'boxes': [<matplotlib.lines.Line2D at 0x1f0d90cddd8>],\n",
       " 'medians': [<matplotlib.lines.Line2D at 0x1f0d90dd0b8>],\n",
       " 'fliers': [<matplotlib.lines.Line2D at 0x1f0d90dd4e0>],\n",
       " 'means': []}"
      ]
     },
     "execution_count": 51,
     "metadata": {},
     "output_type": "execute_result"
    },
    {
     "data": {
      "image/png": "[encoded data removed]",
      "text/plain": [
       "<Figure size 432x288 with 2 Axes>"
      ]
     },
     "metadata": {},
     "output_type": "display_data"
    }
   ],
   "source": [
    "plt.subplot(121)\n",
    "plt.boxplot(final_['South Africa'])\n",
    "plt.subplot(122)\n",
    "plt.boxplot(final_['World (WBG members)'])"
   ]
  },
  {
   "cell_type": "code",
   "execution_count": 56,
   "metadata": {
    "collapsed": true
   },
   "outputs": [
    {
     "data": {
      "text/plain": [
       "<matplotlib.legend.Legend at 0x1f0d926deb8>"
      ]
     },
     "execution_count": 56,
     "metadata": {},
     "output_type": "execute_result"
    },
    {
     "data": {
      "image/png": "[encoded data removed]",
      "text/plain": [
       "<Figure size 432x288 with 1 Axes>"
      ]
     },
     "metadata": {},
     "output_type": "display_data"
    }
   ],
   "source": [
    "plt.plot(final_['World (WBG members)'], label = 'World')\n",
    "plt.plot(final_['South Africa'], label = 'SA')\n",
    "plt.legend()"
   ]
  },
  {
   "cell_type": "code",
   "execution_count": 60,
   "metadata": {
    "collapsed": true
   },
   "outputs": [
    {
     "data": {
      "text/plain": [
       "Text(0,0.5,'South African GDP')"
      ]
     },
     "execution_count": 60,
     "metadata": {},
     "output_type": "execute_result"
    },
    {
     "data": {
      "image/png": "[encoded data removed]",
      "text/plain": [
       "<Figure size 432x288 with 1 Axes>"
      ]
     },
     "metadata": {},
     "output_type": "display_data"
    }
   ],
   "source": [
    "plt.plot(final_['World (WBG members)'],final_['South Africa'])\n",
    "plt.title('SA GDP with the World\\'s GDP')\n",
    "plt.xlabel('World GDP')\n",
    "plt.ylabel('South African GDP')"
   ]
  },
  {
   "cell_type": "code",
   "execution_count": null,
   "metadata": {},
   "outputs": [],
   "source": []
  }
 ],
 "metadata": {
  "kernelspec": {
   "display_name": "Python 3",
   "language": "python",
   "name": "python3"
  },
  "language_info": {
   "codemirror_mode": {
    "name": "ipython",
    "version": 3
   },
   "file_extension": ".py",
   "mimetype": "text/x-python",
   "name": "python",
   "nbconvert_exporter": "python",
   "pygments_lexer": "ipython3",
   "version": "3.6.5"
  }
 },
 "nbformat": 4,
 "nbformat_minor": 2
}
